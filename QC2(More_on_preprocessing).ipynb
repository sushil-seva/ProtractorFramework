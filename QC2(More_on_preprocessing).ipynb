{
  "nbformat": 4,
  "nbformat_minor": 0,
  "metadata": {
    "colab": {
      "name": "QC2(More on preprocessing).ipynb",
      "provenance": [],
      "collapsed_sections": [],
      "authorship_tag": "ABX9TyMAxywQtd0g2GdZrDNWpvKk",
      "include_colab_link": true
    },
    "kernelspec": {
      "name": "python3",
      "display_name": "Python 3"
    },
    "language_info": {
      "name": "python"
    }
  },
  "cells": [
    {
      "cell_type": "markdown",
      "metadata": {
        "id": "view-in-github",
        "colab_type": "text"
      },
      "source": [
        "<a href=\"https://colab.research.google.com/github/sushil-seva/ProtractorFramework/blob/master/QC2(More_on_preprocessing).ipynb\" target=\"_parent\"><img src=\"https://colab.research.google.com/assets/colab-badge.svg\" alt=\"Open In Colab\"/></a>"
      ]
    },
    {
      "cell_type": "code",
      "metadata": {
        "id": "ICl3v-lCcTVE"
      },
      "source": [
        "# !pip install torch==1.3.1+cpu -f https://download.pytorch.org/whl/torch_stable.html\n",
        "# !pip install inltk\n",
        "# !pip install nepali-stemmer\n",
        "from inltk.inltk import setup\n",
        "from inltk.inltk import tokenize\n",
        "from inltk.inltk import get_embedding_vectors\n",
        "from nepali_stemmer.stemmer import NepStemmer\n",
        "# setup('ne')\n",
        "import pandas as pd\n",
        "import numpy as np\n",
        "import matplotlib.pyplot as plt\n",
        "%matplotlib inline"
      ],
      "execution_count": null,
      "outputs": []
    },
    {
      "cell_type": "code",
      "metadata": {
        "id": "Bedgrbfxd-Lw"
      },
      "source": [
        "# from google.colab import files\n",
        "# uploaded = files.upload()\n",
        "df = pd.read_csv('Questions2000.csv')"
      ],
      "execution_count": null,
      "outputs": []
    },
    {
      "cell_type": "code",
      "metadata": {
        "id": "EphLgVrLBVKV",
        "colab": {
          "base_uri": "https://localhost:8080/",
          "height": 204
        },
        "outputId": "379a20cb-ac37-4055-a732-bf70596fa387"
      },
      "source": [
        "#Removig unecessary column\n",
        "df=df.drop(columns=['Answer'])\n",
        "#Displayig first five rows\n",
        "df.head()"
      ],
      "execution_count": null,
      "outputs": [
        {
          "output_type": "execute_result",
          "data": {
            "text/html": [
              "<div>\n",
              "<style scoped>\n",
              "    .dataframe tbody tr th:only-of-type {\n",
              "        vertical-align: middle;\n",
              "    }\n",
              "\n",
              "    .dataframe tbody tr th {\n",
              "        vertical-align: top;\n",
              "    }\n",
              "\n",
              "    .dataframe thead th {\n",
              "        text-align: right;\n",
              "    }\n",
              "</style>\n",
              "<table border=\"1\" class=\"dataframe\">\n",
              "  <thead>\n",
              "    <tr style=\"text-align: right;\">\n",
              "      <th></th>\n",
              "      <th>Questions</th>\n",
              "      <th>CoarseType</th>\n",
              "      <th>FineType</th>\n",
              "      <th>WhWord</th>\n",
              "      <th>Domain</th>\n",
              "    </tr>\n",
              "  </thead>\n",
              "  <tbody>\n",
              "    <tr>\n",
              "      <th>0</th>\n",
              "      <td>नेपाली क्रिकेट टिम क्याप्टेनमा ज्ञानेन्द्र मल्...</td>\n",
              "      <td>temporal</td>\n",
              "      <td>date</td>\n",
              "      <td>कहिले</td>\n",
              "      <td>Sports</td>\n",
              "    </tr>\n",
              "    <tr>\n",
              "      <th>1</th>\n",
              "      <td>फ्रान्सको लियोनमा सम्पन्न महिला विश्वकप फुटबल ...</td>\n",
              "      <td>organization</td>\n",
              "      <td>sport-team</td>\n",
              "      <td>कसले</td>\n",
              "      <td>Sports</td>\n",
              "    </tr>\n",
              "    <tr>\n",
              "      <th>2</th>\n",
              "      <td>विश्व शान्ति सूचांक २०१९ अनुसार नेपाल कति औ स्...</td>\n",
              "      <td>numerical</td>\n",
              "      <td>rank</td>\n",
              "      <td>कति</td>\n",
              "      <td>Miscellaneous</td>\n",
              "    </tr>\n",
              "    <tr>\n",
              "      <th>3</th>\n",
              "      <td>एक फलफूलको बोट रु दशको नोट\" कार्यक्रमको सुरुवा...</td>\n",
              "      <td>location</td>\n",
              "      <td>city</td>\n",
              "      <td>कुन</td>\n",
              "      <td>Politics</td>\n",
              "    </tr>\n",
              "    <tr>\n",
              "      <th>4</th>\n",
              "      <td>माथिल्लो त्रिशुली थ्री 'ए' जलविधुत आयोजनाको वि...</td>\n",
              "      <td>temporal</td>\n",
              "      <td>date</td>\n",
              "      <td>कहिले</td>\n",
              "      <td>Miscellaneous</td>\n",
              "    </tr>\n",
              "  </tbody>\n",
              "</table>\n",
              "</div>"
            ],
            "text/plain": [
              "                                           Questions  ...        Domain \n",
              "0  नेपाली क्रिकेट टिम क्याप्टेनमा ज्ञानेन्द्र मल्...  ...         Sports\n",
              "1  फ्रान्सको लियोनमा सम्पन्न महिला विश्वकप फुटबल ...  ...         Sports\n",
              "2  विश्व शान्ति सूचांक २०१९ अनुसार नेपाल कति औ स्...  ...  Miscellaneous\n",
              "3  एक फलफूलको बोट रु दशको नोट\" कार्यक्रमको सुरुवा...  ...       Politics\n",
              "4  माथिल्लो त्रिशुली थ्री 'ए' जलविधुत आयोजनाको वि...  ...  Miscellaneous\n",
              "\n",
              "[5 rows x 5 columns]"
            ]
          },
          "metadata": {
            "tags": []
          },
          "execution_count": 319
        }
      ]
    },
    {
      "cell_type": "code",
      "metadata": {
        "id": "jUlSROQTeMZi",
        "colab": {
          "base_uri": "https://localhost:8080/",
          "height": 359
        },
        "outputId": "6e33a41f-cbbe-496d-d481-5b6bb6c4de7e"
      },
      "source": [
        "df = df[pd.notnull(df['CoarseType'])]\n",
        "df.head(10)"
      ],
      "execution_count": null,
      "outputs": [
        {
          "output_type": "execute_result",
          "data": {
            "text/html": [
              "<div>\n",
              "<style scoped>\n",
              "    .dataframe tbody tr th:only-of-type {\n",
              "        vertical-align: middle;\n",
              "    }\n",
              "\n",
              "    .dataframe tbody tr th {\n",
              "        vertical-align: top;\n",
              "    }\n",
              "\n",
              "    .dataframe thead th {\n",
              "        text-align: right;\n",
              "    }\n",
              "</style>\n",
              "<table border=\"1\" class=\"dataframe\">\n",
              "  <thead>\n",
              "    <tr style=\"text-align: right;\">\n",
              "      <th></th>\n",
              "      <th>Questions</th>\n",
              "      <th>CoarseType</th>\n",
              "      <th>FineType</th>\n",
              "      <th>WhWord</th>\n",
              "      <th>Domain</th>\n",
              "    </tr>\n",
              "  </thead>\n",
              "  <tbody>\n",
              "    <tr>\n",
              "      <th>0</th>\n",
              "      <td>नेपाली क्रिकेट टिम क्याप्टेनमा ज्ञानेन्द्र मल्...</td>\n",
              "      <td>temporal</td>\n",
              "      <td>date</td>\n",
              "      <td>कहिले</td>\n",
              "      <td>Sports</td>\n",
              "    </tr>\n",
              "    <tr>\n",
              "      <th>1</th>\n",
              "      <td>फ्रान्सको लियोनमा सम्पन्न महिला विश्वकप फुटबल ...</td>\n",
              "      <td>organization</td>\n",
              "      <td>sport-team</td>\n",
              "      <td>कसले</td>\n",
              "      <td>Sports</td>\n",
              "    </tr>\n",
              "    <tr>\n",
              "      <th>2</th>\n",
              "      <td>विश्व शान्ति सूचांक २०१९ अनुसार नेपाल कति औ स्...</td>\n",
              "      <td>numerical</td>\n",
              "      <td>rank</td>\n",
              "      <td>कति</td>\n",
              "      <td>Miscellaneous</td>\n",
              "    </tr>\n",
              "    <tr>\n",
              "      <th>3</th>\n",
              "      <td>एक फलफूलको बोट रु दशको नोट\" कार्यक्रमको सुरुवा...</td>\n",
              "      <td>location</td>\n",
              "      <td>city</td>\n",
              "      <td>कुन</td>\n",
              "      <td>Politics</td>\n",
              "    </tr>\n",
              "    <tr>\n",
              "      <th>4</th>\n",
              "      <td>माथिल्लो त्रिशुली थ्री 'ए' जलविधुत आयोजनाको वि...</td>\n",
              "      <td>temporal</td>\n",
              "      <td>date</td>\n",
              "      <td>कहिले</td>\n",
              "      <td>Miscellaneous</td>\n",
              "    </tr>\n",
              "    <tr>\n",
              "      <th>5</th>\n",
              "      <td>अर्थमन्त्री युवराज खतिवडाले वि.स. २०७६ जेठ १५ ...</td>\n",
              "      <td>numerical</td>\n",
              "      <td>money</td>\n",
              "      <td>कति</td>\n",
              "      <td>Economics</td>\n",
              "    </tr>\n",
              "    <tr>\n",
              "      <th>6</th>\n",
              "      <td>विश्वका ८ हजार मिटर भन्दा अग्ला १४ ओटै हिमाल आ...</td>\n",
              "      <td>person</td>\n",
              "      <td>individual</td>\n",
              "      <td>को</td>\n",
              "      <td>Miscellaneous</td>\n",
              "    </tr>\n",
              "    <tr>\n",
              "      <th>7</th>\n",
              "      <td>अमेरिकाले आफ्ना नागरिकलाई क्युवाको भ्रमणका लाग...</td>\n",
              "      <td>temporal</td>\n",
              "      <td>date</td>\n",
              "      <td>कहिले</td>\n",
              "      <td>Miscellaneous</td>\n",
              "    </tr>\n",
              "    <tr>\n",
              "      <th>8</th>\n",
              "      <td>नेपाल राष्ट्र बैंकले नेपालि भाषामा पनि ATM चला...</td>\n",
              "      <td>temporal</td>\n",
              "      <td>date</td>\n",
              "      <td>कहिले</td>\n",
              "      <td>Economics</td>\n",
              "    </tr>\n",
              "    <tr>\n",
              "      <th>9</th>\n",
              "      <td>नेपालमा पर्यटन सुचना केन्द्रको स्थापना कहिले ग...</td>\n",
              "      <td>temporal</td>\n",
              "      <td>date</td>\n",
              "      <td>कहिले</td>\n",
              "      <td>Tourism</td>\n",
              "    </tr>\n",
              "  </tbody>\n",
              "</table>\n",
              "</div>"
            ],
            "text/plain": [
              "                                           Questions  ...        Domain \n",
              "0  नेपाली क्रिकेट टिम क्याप्टेनमा ज्ञानेन्द्र मल्...  ...         Sports\n",
              "1  फ्रान्सको लियोनमा सम्पन्न महिला विश्वकप फुटबल ...  ...         Sports\n",
              "2  विश्व शान्ति सूचांक २०१९ अनुसार नेपाल कति औ स्...  ...  Miscellaneous\n",
              "3  एक फलफूलको बोट रु दशको नोट\" कार्यक्रमको सुरुवा...  ...       Politics\n",
              "4  माथिल्लो त्रिशुली थ्री 'ए' जलविधुत आयोजनाको वि...  ...  Miscellaneous\n",
              "5  अर्थमन्त्री युवराज खतिवडाले वि.स. २०७६ जेठ १५ ...  ...      Economics\n",
              "6  विश्वका ८ हजार मिटर भन्दा अग्ला १४ ओटै हिमाल आ...  ...  Miscellaneous\n",
              "7  अमेरिकाले आफ्ना नागरिकलाई क्युवाको भ्रमणका लाग...  ...  Miscellaneous\n",
              "8  नेपाल राष्ट्र बैंकले नेपालि भाषामा पनि ATM चला...  ...      Economics\n",
              "9  नेपालमा पर्यटन सुचना केन्द्रको स्थापना कहिले ग...  ...        Tourism\n",
              "\n",
              "[10 rows x 5 columns]"
            ]
          },
          "metadata": {
            "tags": []
          },
          "execution_count": 320
        }
      ]
    },
    {
      "cell_type": "code",
      "metadata": {
        "colab": {
          "base_uri": "https://localhost:8080/"
        },
        "id": "JYxyC0lweiPy",
        "outputId": "2963693e-aa8e-472a-f605-ac7ea8aafcc7"
      },
      "source": [
        "print(df['Questions'].apply(lambda x: len(x.split(' '))).sum())\n"
      ],
      "execution_count": null,
      "outputs": [
        {
          "output_type": "stream",
          "text": [
            "18633\n"
          ],
          "name": "stdout"
        }
      ]
    },
    {
      "cell_type": "code",
      "metadata": {
        "colab": {
          "base_uri": "https://localhost:8080/",
          "height": 322
        },
        "id": "Pm_8WA9veyKr",
        "outputId": "db8d9ba1-d74b-4c54-ba2a-76ad54fbd000"
      },
      "source": [
        "#coarse type filtering\n",
        "df=df[df['CoarseType'].isin(['location','temporal','numerical','person'])]\n",
        "coarse_type=df['CoarseType'].unique()\n",
        "print(coarse_type)\n",
        "plt.figure(figsize=(10,4))\n",
        "df.CoarseType.value_counts().plot(kind='bar');\n"
      ],
      "execution_count": null,
      "outputs": [
        {
          "output_type": "stream",
          "text": [
            "['temporal' 'numerical' 'location' 'person']\n"
          ],
          "name": "stdout"
        },
        {
          "output_type": "display_data",
          "data": {
            "image/png": "[encoded data removed]",
            "text/plain": [
              "<Figure size 720x288 with 1 Axes>"
            ]
          },
          "metadata": {
            "tags": [],
            "needs_background": "light"
          }
        }
      ]
    },
    {
      "cell_type": "code",
      "metadata": {
        "id": "BmqaHOKTfAt9"
      },
      "source": [
        "def print_plot(index):\n",
        "    example = df[df.index == index][['Questions', 'CoarseType']].values[0]\n",
        "    if len(example) > 0:\n",
        "        print(example[0])\n",
        "        print('Coarse Type:', example[1])"
      ],
      "execution_count": null,
      "outputs": []
    },
    {
      "cell_type": "code",
      "metadata": {
        "colab": {
          "base_uri": "https://localhost:8080/"
        },
        "id": "joxO-_f3fF-b",
        "outputId": "8206d742-54c2-4b13-854c-cf7e0e5ab050"
      },
      "source": [
        "print_plot(10)"
      ],
      "execution_count": null,
      "outputs": [
        {
          "output_type": "stream",
          "text": [
            "प्रथम आर्थिक गणनाको नतिजा कहिले सार्वजनिक गरियो ?\n",
            "Coarse Type: temporal\n"
          ],
          "name": "stdout"
        }
      ]
    },
    {
      "cell_type": "markdown",
      "metadata": {
        "id": "x6WbV7qyfYcp"
      },
      "source": [
        "**Text Preprocessig**"
      ]
    },
    {
      "cell_type": "code",
      "metadata": {
        "id": "EKyDSfqefXdB",
        "colab": {
          "base_uri": "https://localhost:8080/"
        },
        "outputId": "0f062743-dc91-456d-9c99-944845d6bdf3"
      },
      "source": [
        "import nltk\n",
        "from nltk.corpus import stopwords\n",
        "nltk.download('stopwords')\n",
        "# print(stopwords.words('nepali'))"
      ],
      "execution_count": null,
      "outputs": [
        {
          "output_type": "stream",
          "text": [
            "[nltk_data] Downloading package stopwords to /root/nltk_data...\n",
            "[nltk_data]   Package stopwords is already up-to-date!\n"
          ],
          "name": "stdout"
        },
        {
          "output_type": "execute_result",
          "data": {
            "text/plain": [
              "True"
            ]
          },
          "metadata": {
            "tags": []
          },
          "execution_count": 325
        }
      ]
    },
    {
      "cell_type": "code",
      "metadata": {
        "id": "1Io9hFAeFnvW"
      },
      "source": [
        "#removing text inside brackets and quotes\n",
        "import re\n",
        "def removeTextInsideQuotesAndBrackets(text):\n",
        "  text=re.sub(\"[\\(\\[].*?[\\)\\]]\", \"\", text)\n",
        "  text=re.sub(\"\\'.*?\\'\",\"\",text)\n",
        "  text=re.sub('\\\".*?\\\"',\"\",text)\n",
        "  return text\n",
        "\n",
        "df['Questions'] = df['Questions'].apply(removeTextInsideQuotesAndBrackets)"
      ],
      "execution_count": null,
      "outputs": []
    },
    {
      "cell_type": "code",
      "metadata": {
        "id": "TEainKOKgycf",
        "colab": {
          "base_uri": "https://localhost:8080/",
          "height": 204
        },
        "outputId": "9d5857f5-0cd8-4e07-d3e7-061971358d44"
      },
      "source": [
        "#Tokenization\n",
        "df['Questions'] = df['Questions'].apply(lambda x: tokenize(x,'ne'))\n",
        "#removing duplicates\n",
        "df['Questions'] = df['Questions'].apply(lambda x: list(dict.fromkeys(x)))\n",
        "df.head()\n",
        "\n"
      ],
      "execution_count": null,
      "outputs": [
        {
          "output_type": "execute_result",
          "data": {
            "text/html": [
              "<div>\n",
              "<style scoped>\n",
              "    .dataframe tbody tr th:only-of-type {\n",
              "        vertical-align: middle;\n",
              "    }\n",
              "\n",
              "    .dataframe tbody tr th {\n",
              "        vertical-align: top;\n",
              "    }\n",
              "\n",
              "    .dataframe thead th {\n",
              "        text-align: right;\n",
              "    }\n",
              "</style>\n",
              "<table border=\"1\" class=\"dataframe\">\n",
              "  <thead>\n",
              "    <tr style=\"text-align: right;\">\n",
              "      <th></th>\n",
              "      <th>Questions</th>\n",
              "      <th>CoarseType</th>\n",
              "      <th>FineType</th>\n",
              "      <th>WhWord</th>\n",
              "      <th>Domain</th>\n",
              "    </tr>\n",
              "  </thead>\n",
              "  <tbody>\n",
              "    <tr>\n",
              "      <th>0</th>\n",
              "      <td>[▁नेपाली, ▁क्रिकेट, ▁टिम, ▁क्याप्टेन, मा, ▁ज्ञ...</td>\n",
              "      <td>temporal</td>\n",
              "      <td>date</td>\n",
              "      <td>कहिले</td>\n",
              "      <td>Sports</td>\n",
              "    </tr>\n",
              "    <tr>\n",
              "      <th>2</th>\n",
              "      <td>[▁विश्व, ▁शान्ति, ▁सू, चा, ंक, ▁, २०१९, ▁अनुसा...</td>\n",
              "      <td>numerical</td>\n",
              "      <td>rank</td>\n",
              "      <td>कति</td>\n",
              "      <td>Miscellaneous</td>\n",
              "    </tr>\n",
              "    <tr>\n",
              "      <th>3</th>\n",
              "      <td>[▁एक, ▁फलफूल, को, ▁बोट, ▁रु, ▁दश, ▁नोट, \", ▁का...</td>\n",
              "      <td>location</td>\n",
              "      <td>city</td>\n",
              "      <td>कुन</td>\n",
              "      <td>Politics</td>\n",
              "    </tr>\n",
              "    <tr>\n",
              "      <th>4</th>\n",
              "      <td>[▁माथिल्लो, ▁त्रिशुली, ▁थ्री, ▁जल, विध, ुत, ▁आ...</td>\n",
              "      <td>temporal</td>\n",
              "      <td>date</td>\n",
              "      <td>कहिले</td>\n",
              "      <td>Miscellaneous</td>\n",
              "    </tr>\n",
              "    <tr>\n",
              "      <th>5</th>\n",
              "      <td>[▁अर्थमन्त्री, ▁युवराज, ▁खतिवडा, ले, ▁वि, ., स...</td>\n",
              "      <td>numerical</td>\n",
              "      <td>money</td>\n",
              "      <td>कति</td>\n",
              "      <td>Economics</td>\n",
              "    </tr>\n",
              "  </tbody>\n",
              "</table>\n",
              "</div>"
            ],
            "text/plain": [
              "                                           Questions  ...        Domain \n",
              "0  [▁नेपाली, ▁क्रिकेट, ▁टिम, ▁क्याप्टेन, मा, ▁ज्ञ...  ...         Sports\n",
              "2  [▁विश्व, ▁शान्ति, ▁सू, चा, ंक, ▁, २०१९, ▁अनुसा...  ...  Miscellaneous\n",
              "3  [▁एक, ▁फलफूल, को, ▁बोट, ▁रु, ▁दश, ▁नोट, \", ▁का...  ...       Politics\n",
              "4  [▁माथिल्लो, ▁त्रिशुली, ▁थ्री, ▁जल, विध, ुत, ▁आ...  ...  Miscellaneous\n",
              "5  [▁अर्थमन्त्री, ▁युवराज, ▁खतिवडा, ले, ▁वि, ., स...  ...      Economics\n",
              "\n",
              "[5 rows x 5 columns]"
            ]
          },
          "metadata": {
            "tags": []
          },
          "execution_count": 327
        }
      ]
    },
    {
      "cell_type": "code",
      "metadata": {
        "colab": {
          "base_uri": "https://localhost:8080/",
          "height": 204
        },
        "id": "XKAZ2gzFn0Rz",
        "outputId": "0a44dbf9-a51d-40af-eee5-ba18ddd03b5a"
      },
      "source": [
        "df['Questions'] = df['Questions'].apply(lambda x: ' '.join(x).replace('▁','').split())\n",
        "\n",
        "#removing numbers\n",
        "df['Questions'] = df['Questions'].apply(lambda x: ' '.join(x))\n",
        "df['Questions'] = df['Questions'].apply(lambda x: ''.join(c for c in x if not c.isdigit()))\n",
        "\n",
        "# from string import punctuation\n",
        "punctuation=['!','\"','#','$','&',\"'\",'(',')','*','+',',','-','.','/',':',';','<','=','>','?','@','[',\"]\",'^','_','`','{','|','}','~']\n",
        "df['Questions'] = df['Questions'].apply(lambda x: ''.join(c for c in x if c not in punctuation))\n",
        "\n",
        "df.head()"
      ],
      "execution_count": null,
      "outputs": [
        {
          "output_type": "execute_result",
          "data": {
            "text/html": [
              "<div>\n",
              "<style scoped>\n",
              "    .dataframe tbody tr th:only-of-type {\n",
              "        vertical-align: middle;\n",
              "    }\n",
              "\n",
              "    .dataframe tbody tr th {\n",
              "        vertical-align: top;\n",
              "    }\n",
              "\n",
              "    .dataframe thead th {\n",
              "        text-align: right;\n",
              "    }\n",
              "</style>\n",
              "<table border=\"1\" class=\"dataframe\">\n",
              "  <thead>\n",
              "    <tr style=\"text-align: right;\">\n",
              "      <th></th>\n",
              "      <th>Questions</th>\n",
              "      <th>CoarseType</th>\n",
              "      <th>FineType</th>\n",
              "      <th>WhWord</th>\n",
              "      <th>Domain</th>\n",
              "    </tr>\n",
              "  </thead>\n",
              "  <tbody>\n",
              "    <tr>\n",
              "      <th>0</th>\n",
              "      <td>नेपाली क्रिकेट टिम क्याप्टेन मा ज्ञानेन्द्र मल...</td>\n",
              "      <td>temporal</td>\n",
              "      <td>date</td>\n",
              "      <td>कहिले</td>\n",
              "      <td>Sports</td>\n",
              "    </tr>\n",
              "    <tr>\n",
              "      <th>2</th>\n",
              "      <td>विश्व शान्ति सू चा ंक  अनुसार नेपाल कति औ स्था...</td>\n",
              "      <td>numerical</td>\n",
              "      <td>rank</td>\n",
              "      <td>कति</td>\n",
              "      <td>Miscellaneous</td>\n",
              "    </tr>\n",
              "    <tr>\n",
              "      <th>3</th>\n",
              "      <td>एक फलफूल को बोट रु दश नोट  कार्यक्रमको सुरुवात...</td>\n",
              "      <td>location</td>\n",
              "      <td>city</td>\n",
              "      <td>कुन</td>\n",
              "      <td>Politics</td>\n",
              "    </tr>\n",
              "    <tr>\n",
              "      <th>4</th>\n",
              "      <td>माथिल्लो त्रिशुली थ्री जल विध ुत आयोजना को विध...</td>\n",
              "      <td>temporal</td>\n",
              "      <td>date</td>\n",
              "      <td>कहिले</td>\n",
              "      <td>Miscellaneous</td>\n",
              "    </tr>\n",
              "    <tr>\n",
              "      <th>5</th>\n",
              "      <td>अर्थमन्त्री युवराज खतिवडा ले वि  स  जेठ  मा सं...</td>\n",
              "      <td>numerical</td>\n",
              "      <td>money</td>\n",
              "      <td>कति</td>\n",
              "      <td>Economics</td>\n",
              "    </tr>\n",
              "  </tbody>\n",
              "</table>\n",
              "</div>"
            ],
            "text/plain": [
              "                                           Questions  ...        Domain \n",
              "0  नेपाली क्रिकेट टिम क्याप्टेन मा ज्ञानेन्द्र मल...  ...         Sports\n",
              "2  विश्व शान्ति सू चा ंक  अनुसार नेपाल कति औ स्था...  ...  Miscellaneous\n",
              "3  एक फलफूल को बोट रु दश नोट  कार्यक्रमको सुरुवात...  ...       Politics\n",
              "4  माथिल्लो त्रिशुली थ्री जल विध ुत आयोजना को विध...  ...  Miscellaneous\n",
              "5  अर्थमन्त्री युवराज खतिवडा ले वि  स  जेठ  मा सं...  ...      Economics\n",
              "\n",
              "[5 rows x 5 columns]"
            ]
          },
          "metadata": {
            "tags": []
          },
          "execution_count": 328
        }
      ]
    },
    {
      "cell_type": "code",
      "metadata": {
        "id": "igEeAbr-cUo3"
      },
      "source": [
        "#stemmig\n",
        "# nepstem = NepStemmer()\n",
        "# df['Questions'] = df['Questions'].apply(nepstem.stem)\n",
        "# df.head(10)"
      ],
      "execution_count": null,
      "outputs": []
    },
    {
      "cell_type": "code",
      "metadata": {
        "id": "s8p29551zWju",
        "colab": {
          "base_uri": "https://localhost:8080/"
        },
        "outputId": "f9c54452-33e9-4962-9d06-947fd8a0fb82"
      },
      "source": [
        "WHWORDS = ['कुन','कहिले','के','कति','को','कसले','कहाँ','कसलाई','कसको','कस्तो','कति','कसरी','किन','कता']\n",
        "STOPWORDS = stopwords.words('nepali')\n",
        "# print(STOPWORDS)\n",
        "print(len(STOPWORDS))\n",
        "\n",
        "# Removig WH words from STOPWORDS\n",
        "for word in WHWORDS:\n",
        "  if word in STOPWORDS: STOPWORDS.remove(word)\n",
        "\n",
        "print(len(STOPWORDS))\n",
        "STOPWORDS=set(STOPWORDS)\n",
        "def clean_text(text):\n",
        "    text=' '.join([word for word in text.split() if word not in STOPWORDS]) # delete stopwords from text\n",
        "    return text\n",
        "df['Questions'] = df['Questions'].apply(clean_text)\n",
        "print_plot(20)\n"
      ],
      "execution_count": null,
      "outputs": [
        {
          "output_type": "stream",
          "text": [
            "['छ', 'र', 'पनि', 'छन्', 'लागि', 'भएको', 'गरेको', 'भने', 'गर्न', 'गर्ने', 'हो', 'तथा', 'यो', 'रहेको', 'उनले', 'थियो', 'हुने', 'गरेका', 'थिए', 'गर्दै', 'तर', 'नै', 'को', 'मा', 'हुन्', 'भन्ने', 'हुन', 'गरी', 'त', 'हुन्छ', 'अब', 'के', 'रहेका', 'गरेर', 'छैन', 'दिए', 'भए', 'यस', 'ले', 'गर्नु', 'औं', 'सो', 'त्यो', 'कि', 'जुन', 'यी', 'का', 'गरि', 'ती', 'न', 'छु', 'छौं', 'लाई', 'नि', 'उप', 'अक्सर', 'आदि', 'कसरी', 'क्रमशः', 'चाले', 'अगाडी', 'अझै', 'अनुसार', 'अन्तर्गत', 'अन्य', 'अन्यत्र', 'अन्यथा', 'अरु', 'अरुलाई', 'अर्को', 'अर्थात', 'अर्थात्', 'अलग', 'आए', 'आजको', 'ओठ', 'आत्म', 'आफू', 'आफूलाई', 'आफ्नै', 'आफ्नो', 'आयो', 'उदाहरण', 'उनको', 'उहालाई', 'एउटै', 'एक', 'एकदम', 'कतै', 'कम से कम', 'कसै', 'कसैले', 'कहाँबाट', 'कहिलेकाहीं', 'का', 'किन', 'किनभने', 'कुनै', 'कुरा', 'कृपया', 'केही', 'कोही', 'गए', 'गरौं', 'गर्छ', 'गर्छु', 'गर्नुपर्छ', 'गयौ', 'गैर', 'चार', 'चाहनुहुन्छ', 'चाहन्छु', 'चाहिए', 'छू', 'जताततै', 'जब', 'जबकि', 'जसको', 'जसबाट', 'जसमा', 'जसलाई', 'जसले', 'जस्तै', 'जस्तो', 'जस्तोसुकै', 'जहाँ', 'जान', 'जाहिर', 'जे', 'जो', 'ठीक', 'तत्काल', 'तदनुसार', 'तपाईको', 'तपाई', 'पर्याप्त', 'पहिले', 'पहिलो', 'पहिल्यै', 'पाँच', 'पाँचौं', 'तल', 'तापनी', 'तिनी', 'तिनीहरू', 'तिनीहरुको', 'तिनिहरुलाई', 'तिमी', 'तिर', 'तीन', 'तुरुन्तै', 'तेस्रो', 'तेस्कारण', 'पूर्व', 'प्रति', 'प्रतेक', 'प्लस', 'फेरी', 'बने', 'त्सपछि', 'त्सैले', 'त्यहाँ', 'थिएन', 'दिनुभएको', 'दिनुहुन्छ', 'दुई', 'देखि', 'बरु', 'बारे', 'बाहिर', 'देखिन्छ', 'देखियो', 'देखे', 'देखेको', 'देखेर', 'दोस्रो', 'धेरै', 'नजिकै', 'नत्र', 'नयाँ', 'निम्ति', 'बाहेक', 'बीच', 'बीचमा', 'भन', 'निम्न', 'निम्नानुसार', 'निर्दिष्ट', 'नौ', 'पक्का', 'पक्कै', 'पछि', 'पछिल्लो', 'पटक', 'पर्छ', 'पर्थ्यो', 'भन्छन्', 'भन्', 'भन्छु', 'भन्दा', 'भन्नुभयो', 'भर', 'भित्र', 'भित्री', 'म', 'मलाई', 'मात्र', 'माथि', 'मुख्य', 'मेरो', 'यति', 'यथोचित', 'यदि', 'यद्यपि', 'यसको', 'यसपछि', 'यसबाहेक', 'यसरी', 'यसो', 'यस्तो', 'यहाँ', 'यहाँसम्म', 'या', 'रही', 'राखे', 'राख्छ', 'राम्रो', 'रूप', 'लगभग', 'वरीपरी', 'वास्तवमा', 'बिरुद्ध', 'बिशेष', 'सायद', 'शायद', 'संग', 'संगै', 'सक्छ', 'सट्टा', 'सधै', 'सबै', 'सबैलाई', 'समय', 'सम्भव', 'सम्म', 'सही', 'साँच्चै', 'सात', 'साथ', 'साथै', 'सारा', 'सोही', 'स्पष्ट', 'हरे', 'हरेक']\n",
            "255\n",
            "251\n",
            "बेलायत प्रधानमन्त्री बो सिन जोन ्सन संसद लम्ब को घोषणा कहिले गर्नुभयो\n",
            "Coarse Type: temporal\n"
          ],
          "name": "stdout"
        }
      ]
    },
    {
      "cell_type": "code",
      "metadata": {
        "colab": {
          "base_uri": "https://localhost:8080/",
          "height": 221
        },
        "id": "-psHe2xD_f3r",
        "outputId": "44b89a1b-4053-48c3-efeb-eda98e09b873"
      },
      "source": [
        "print(df['Questions'].apply(lambda x: len(x.split(' '))).sum())\n",
        "df.head()\n"
      ],
      "execution_count": null,
      "outputs": [
        {
          "output_type": "stream",
          "text": [
            "12121\n"
          ],
          "name": "stdout"
        },
        {
          "output_type": "execute_result",
          "data": {
            "text/html": [
              "<div>\n",
              "<style scoped>\n",
              "    .dataframe tbody tr th:only-of-type {\n",
              "        vertical-align: middle;\n",
              "    }\n",
              "\n",
              "    .dataframe tbody tr th {\n",
              "        vertical-align: top;\n",
              "    }\n",
              "\n",
              "    .dataframe thead th {\n",
              "        text-align: right;\n",
              "    }\n",
              "</style>\n",
              "<table border=\"1\" class=\"dataframe\">\n",
              "  <thead>\n",
              "    <tr style=\"text-align: right;\">\n",
              "      <th></th>\n",
              "      <th>Questions</th>\n",
              "      <th>CoarseType</th>\n",
              "      <th>FineType</th>\n",
              "      <th>WhWord</th>\n",
              "      <th>Domain</th>\n",
              "    </tr>\n",
              "  </thead>\n",
              "  <tbody>\n",
              "    <tr>\n",
              "      <th>0</th>\n",
              "      <td>नेपाली क्रिकेट टिम क्याप्टेन ज्ञानेन्द्र मल्ल ...</td>\n",
              "      <td>temporal</td>\n",
              "      <td>date</td>\n",
              "      <td>कहिले</td>\n",
              "      <td>Sports</td>\n",
              "    </tr>\n",
              "    <tr>\n",
              "      <th>2</th>\n",
              "      <td>विश्व शान्ति सू चा ंक नेपाल कति औ स्थानमा</td>\n",
              "      <td>numerical</td>\n",
              "      <td>rank</td>\n",
              "      <td>कति</td>\n",
              "      <td>Miscellaneous</td>\n",
              "    </tr>\n",
              "    <tr>\n",
              "      <th>3</th>\n",
              "      <td>फलफूल को बोट रु दश नोट कार्यक्रमको सुरुवात कुन...</td>\n",
              "      <td>location</td>\n",
              "      <td>city</td>\n",
              "      <td>कुन</td>\n",
              "      <td>Politics</td>\n",
              "    </tr>\n",
              "    <tr>\n",
              "      <th>4</th>\n",
              "      <td>माथिल्लो त्रिशुली थ्री जल विध ुत आयोजना को विध...</td>\n",
              "      <td>temporal</td>\n",
              "      <td>date</td>\n",
              "      <td>कहिले</td>\n",
              "      <td>Miscellaneous</td>\n",
              "    </tr>\n",
              "    <tr>\n",
              "      <th>5</th>\n",
              "      <td>अर्थमन्त्री युवराज खतिवडा वि स जेठ संघ िय संसद...</td>\n",
              "      <td>numerical</td>\n",
              "      <td>money</td>\n",
              "      <td>कति</td>\n",
              "      <td>Economics</td>\n",
              "    </tr>\n",
              "  </tbody>\n",
              "</table>\n",
              "</div>"
            ],
            "text/plain": [
              "                                           Questions  ...        Domain \n",
              "0  नेपाली क्रिकेट टिम क्याप्टेन ज्ञानेन्द्र मल्ल ...  ...         Sports\n",
              "2          विश्व शान्ति सू चा ंक नेपाल कति औ स्थानमा  ...  Miscellaneous\n",
              "3  फलफूल को बोट रु दश नोट कार्यक्रमको सुरुवात कुन...  ...       Politics\n",
              "4  माथिल्लो त्रिशुली थ्री जल विध ुत आयोजना को विध...  ...  Miscellaneous\n",
              "5  अर्थमन्त्री युवराज खतिवडा वि स जेठ संघ िय संसद...  ...      Economics\n",
              "\n",
              "[5 rows x 5 columns]"
            ]
          },
          "metadata": {
            "tags": []
          },
          "execution_count": 331
        }
      ]
    },
    {
      "cell_type": "markdown",
      "metadata": {
        "id": "HOYd0HrmIKMj"
      },
      "source": [
        "**Decleration**"
      ]
    },
    {
      "cell_type": "code",
      "metadata": {
        "id": "1RiXbTriE7n9"
      },
      "source": [
        "from sklearn.model_selection import train_test_split\n",
        "from sklearn.pipeline import Pipeline\n",
        "from sklearn.feature_extraction.text import TfidfTransformer\n",
        "from sklearn.feature_extraction.text import CountVectorizer\n",
        "from sklearn.metrics import accuracy_score\n",
        "from sklearn.metrics import classification_report\n",
        "\n",
        "from sklearn.naive_bayes import MultinomialNB\n",
        "from sklearn.linear_model import SGDClassifier\n",
        "from sklearn.svm import SVC\n",
        "from sklearn.svm import LinearSVC\n",
        "from sklearn.multiclass import OneVsRestClassifier\n",
        "from sklearn.multiclass import OneVsOneClassifier;\n",
        "from sklearn.linear_model import LogisticRegression\n",
        "TEST_SIZE=0.40\n"
      ],
      "execution_count": null,
      "outputs": []
    },
    {
      "cell_type": "code",
      "metadata": {
        "id": "3gcOo_6yOqJQ"
      },
      "source": [
        "def coarseModel(algorithm):\n",
        "  X = df.Questions\n",
        "  y = df.CoarseType\n",
        "  X_train, X_test, y_train, y_test = train_test_split(X, y, test_size=TEST_SIZE, random_state = 42) \n",
        "\n",
        "  if(algorithm=='nb'):\n",
        "    model = Pipeline([('vect', CountVectorizer()),\n",
        "               ('tfidf', TfidfTransformer()),\n",
        "               ('clf', MultinomialNB()),\n",
        "              ]) \n",
        "  elif(algorithm=='sgd'):\n",
        "    model = Pipeline([('vect', CountVectorizer()),\n",
        "                ('tfidf', TfidfTransformer()),\n",
        "                ('clf', SGDClassifier(loss='hinge', penalty='l2',alpha=1e-3, random_state=42, max_iter=5, tol=None, shuffle=True)), #Equivalent to linear svm\n",
        "               ])\n",
        "  elif(algorithm==\"svm\"):\n",
        "    model = Pipeline([('vect', CountVectorizer()),\n",
        "                ('tfidf', TfidfTransformer()),\n",
        "                ('clf', OneVsRestClassifier(SVC(C=1, kernel='sigmoid'))),    #Non linear svm\n",
        "               ])\n",
        "    # model = Pipeline([('vect', CountVectorizer()),\n",
        "    #           ('tfidf', TfidfTransformer()),\n",
        "    #           ('clf', LinearSVC(loss='hinge', penalty='l2', random_state=None, max_iter=5,tol=0.0001)), #Linear  svm\n",
        "    #           ])\n",
        "  else:\n",
        "    model = Pipeline([('vect', CountVectorizer()),\n",
        "                ('tfidf', TfidfTransformer()),\n",
        "                ('clf', LogisticRegression(n_jobs=1, C=1e5)),\n",
        "               ])\n",
        "  \n",
        "\n",
        "  model.fit(X_train, y_train)\n",
        "  # %time\n",
        "\n",
        "  y_pred = model.predict(X_test)\n",
        "\n",
        "  model_accuracy = accuracy_score(y_pred, y_test)\n",
        "  print('Accuracy : %s' % model_accuracy)\n",
        "  print(classification_report(y_test, y_pred,target_names=coarse_type))\n",
        "  return model\n",
        "\n",
        "\n"
      ],
      "execution_count": null,
      "outputs": []
    },
    {
      "cell_type": "code",
      "metadata": {
        "id": "pewfpQ2OW69J",
        "colab": {
          "base_uri": "https://localhost:8080/"
        },
        "outputId": "2c4f1451-4d57-4ce8-962d-e5ccdb849343"
      },
      "source": [
        "nb_model=coarseModel('nb');"
      ],
      "execution_count": null,
      "outputs": [
        {
          "output_type": "stream",
          "text": [
            "Accuracy : 0.7689655172413793\n",
            "              precision    recall  f1-score   support\n",
            "\n",
            "    temporal       0.83      0.59      0.69       144\n",
            "   numerical       0.85      0.86      0.86       136\n",
            "    location       0.82      0.73      0.77       157\n",
            "      person       0.65      0.90      0.75       143\n",
            "\n",
            "    accuracy                           0.77       580\n",
            "   macro avg       0.79      0.77      0.77       580\n",
            "weighted avg       0.79      0.77      0.77       580\n",
            "\n"
          ],
          "name": "stdout"
        }
      ]
    },
    {
      "cell_type": "code",
      "metadata": {
        "colab": {
          "base_uri": "https://localhost:8080/"
        },
        "id": "Cdj3SjWwXunD",
        "outputId": "9464af5b-b764-47a6-b100-82126567b16e"
      },
      "source": [
        "sgd_model=coarseModel('sgd')"
      ],
      "execution_count": null,
      "outputs": [
        {
          "output_type": "stream",
          "text": [
            "Accuracy : 0.85\n",
            "              precision    recall  f1-score   support\n",
            "\n",
            "    temporal       0.81      0.63      0.71       144\n",
            "   numerical       0.95      0.95      0.95       136\n",
            "    location       0.82      0.88      0.85       157\n",
            "      person       0.83      0.94      0.88       143\n",
            "\n",
            "    accuracy                           0.85       580\n",
            "   macro avg       0.85      0.85      0.85       580\n",
            "weighted avg       0.85      0.85      0.85       580\n",
            "\n"
          ],
          "name": "stdout"
        }
      ]
    },
    {
      "cell_type": "code",
      "metadata": {
        "colab": {
          "base_uri": "https://localhost:8080/"
        },
        "id": "9GaKt9QwYLZt",
        "outputId": "8f2b8c8e-51c7-4eb7-9acb-dcdfe28ef2f8"
      },
      "source": [
        "svm_model=coarseModel('svm')"
      ],
      "execution_count": null,
      "outputs": [
        {
          "output_type": "stream",
          "text": [
            "Accuracy : 0.8517241379310345\n",
            "              precision    recall  f1-score   support\n",
            "\n",
            "    temporal       0.82      0.63      0.71       144\n",
            "   numerical       0.96      0.95      0.96       136\n",
            "    location       0.81      0.89      0.85       157\n",
            "      person       0.82      0.94      0.88       143\n",
            "\n",
            "    accuracy                           0.85       580\n",
            "   macro avg       0.85      0.85      0.85       580\n",
            "weighted avg       0.85      0.85      0.85       580\n",
            "\n"
          ],
          "name": "stdout"
        }
      ]
    },
    {
      "cell_type": "code",
      "metadata": {
        "id": "sdc1YjJLYfe4"
      },
      "source": [
        "# logreg_model=coarseModel('logreg')"
      ],
      "execution_count": null,
      "outputs": []
    },
    {
      "cell_type": "markdown",
      "metadata": {
        "id": "K1BTN6n1_i5p"
      },
      "source": [
        "**Predictions**"
      ]
    },
    {
      "cell_type": "code",
      "metadata": {
        "colab": {
          "base_uri": "https://localhost:8080/"
        },
        "id": "yqPL6xSA_mfb",
        "outputId": "570a443e-1639-4312-ab8f-e2dc1735f211"
      },
      "source": [
        "validation_questions=[[\"सन् २०२० मार्चमा प्रदान गरिएको इन्टरनेसनल कम्युनिकेसन अवार्ड बाट सम्मानित व्यत्तित्व को हनुहुन्छ ? \"],[\"नेपाल न्यून आय भएका मुलुकबाट न्यून मध्यम आय भएका मुलुकको सूचीमा कहिले स्तरोन्नति भएको हो ? \"],\n",
        "                      [\"वि.सं. २०७७ असार २३ सरकारले नेपाल प्रहरी महानिरीक्षक (आईजीपी) मा कसलाई नियुक्त गर्यो ?\"],[\"हाल रेडियो नेपालबाट कति भाषामा समाचार प्रसारण हुने गर्छ ?\"],\n",
        "                      [\"समाजसेवी तथा शिक्षाविद् अङ्गुरबाबा जोशीको निधन कहिले भएको हो ?\"],[\"सन् २०२० जुनमा सुरक्षा परिषदको अस्थायी सदस्यमा निर्वाचित हुन सफल राष्ट्र कुन कुन हुन ?\"],\n",
        "                      [\"'एक वडा एक व्यायामशाला' निमाणको योजना अघि बढाउने स्थानीय तह कुन हो ?\"],[\"बालबालिकाको क्षेत्रमा काम गर्ने अन्तर्राष्ट्रिय संस्था किवानिज इन्टरनेसनलको एसिया प्यासिफिक सम्मेलन हालै कहाँ सम्पन्न भयो ?\"],\n",
        "                      [\"लोकसेवा आयोग विधेयक प्रतिनिधिसभाबाट कहिले पारित भएको हो ?\"],[\"नेपालमा कृषक परिचयपत्र वितरण गर्ने कार्य कुन जिल्लाबाट सुरु गरिएको हो ?\"],\n",
        "                      [\"विश्व बैंकद्वारा विसं २०७६ कात्तिक ७ मा सार्वजनिक डुइङ बिजनेस प्रतिवेदन २०२० अनुसार नेपाल कतिऔं स्थानमा रहेको छ ?\"],['नेपाली पोर्टको शुभारम्भ कहिले भएको हो ?'],\n",
        "                      [\"सन्  २०१९/२० को विस्डन क्रिकेटर अफ द इयरको उपाधि जित्ने क्रिकेटर को हुन ?\"],['सबै जिल्लामा स्वास्थ्य विमा सेवा लागु गर्ने पहिलो प्रदेश कुन हो ?']]\n",
        "# print(\"Naive Bayes Classifier \\n\")\n",
        "# for question in validation_questions:\n",
        "#   test_pred= nb_model.predict(question)\n",
        "#   print(question[0] +' : ' + test_pred[0])\n",
        "# print('\\n')\n",
        "\n",
        "print(\"SGDC Classifier \\n\")\n",
        "for question in validation_questions:\n",
        "  test_pred= sgd_model.predict(question)\n",
        "  print(question[0] +' : ' + test_pred[0])\n",
        "print('\\n')\n",
        "\n",
        "print(\"Support Vector Machine \\n\")\n",
        "for question in validation_questions:\n",
        "  test_pred= svm_model.predict(question)\n",
        "  print(question[0] +' : ' + test_pred[0])\n",
        "print('\\n')\n",
        "\n",
        "# print(\"Logistic Regression \\n\")\n",
        "# for question in validation_questions:\n",
        "#   test_pred= logreg_model.predict(question)\n",
        "#   print(question[0] +' : ' + test_pred[0])\n"
      ],
      "execution_count": null,
      "outputs": [
        {
          "output_type": "stream",
          "text": [
            "SGDC Classifier \n",
            "\n",
            "सन् २०२० मार्चमा प्रदान गरिएको इन्टरनेसनल कम्युनिकेसन अवार्ड बाट सम्मानित व्यत्तित्व को हनुहुन्छ ?  : person\n",
            "नेपाल न्यून आय भएका मुलुकबाट न्यून मध्यम आय भएका मुलुकको सूचीमा कहिले स्तरोन्नति भएको हो ?  : temporal\n",
            "वि.सं. २०७७ असार २३ सरकारले नेपाल प्रहरी महानिरीक्षक (आईजीपी) मा कसलाई नियुक्त गर्यो ? : temporal\n",
            "हाल रेडियो नेपालबाट कति भाषामा समाचार प्रसारण हुने गर्छ ? : numerical\n",
            "समाजसेवी तथा शिक्षाविद् अङ्गुरबाबा जोशीको निधन कहिले भएको हो ? : temporal\n",
            "सन् २०२० जुनमा सुरक्षा परिषदको अस्थायी सदस्यमा निर्वाचित हुन सफल राष्ट्र कुन कुन हुन ? : person\n",
            "'एक वडा एक व्यायामशाला' निमाणको योजना अघि बढाउने स्थानीय तह कुन हो ? : numerical\n",
            "बालबालिकाको क्षेत्रमा काम गर्ने अन्तर्राष्ट्रिय संस्था किवानिज इन्टरनेसनलको एसिया प्यासिफिक सम्मेलन हालै कहाँ सम्पन्न भयो ? : temporal\n",
            "लोकसेवा आयोग विधेयक प्रतिनिधिसभाबाट कहिले पारित भएको हो ? : person\n",
            "नेपालमा कृषक परिचयपत्र वितरण गर्ने कार्य कुन जिल्लाबाट सुरु गरिएको हो ? : temporal\n",
            "विश्व बैंकद्वारा विसं २०७६ कात्तिक ७ मा सार्वजनिक डुइङ बिजनेस प्रतिवेदन २०२० अनुसार नेपाल कतिऔं स्थानमा रहेको छ ? : numerical\n",
            "नेपाली पोर्टको शुभारम्भ कहिले भएको हो ? : temporal\n",
            "सन्  २०१९/२० को विस्डन क्रिकेटर अफ द इयरको उपाधि जित्ने क्रिकेटर को हुन ? : person\n",
            "सबै जिल्लामा स्वास्थ्य विमा सेवा लागु गर्ने पहिलो प्रदेश कुन हो ? : location\n",
            "\n",
            "\n",
            "Support Vector Machine \n",
            "\n",
            "सन् २०२० मार्चमा प्रदान गरिएको इन्टरनेसनल कम्युनिकेसन अवार्ड बाट सम्मानित व्यत्तित्व को हनुहुन्छ ?  : location\n",
            "नेपाल न्यून आय भएका मुलुकबाट न्यून मध्यम आय भएका मुलुकको सूचीमा कहिले स्तरोन्नति भएको हो ?  : temporal\n",
            "वि.सं. २०७७ असार २३ सरकारले नेपाल प्रहरी महानिरीक्षक (आईजीपी) मा कसलाई नियुक्त गर्यो ? : temporal\n",
            "हाल रेडियो नेपालबाट कति भाषामा समाचार प्रसारण हुने गर्छ ? : numerical\n",
            "समाजसेवी तथा शिक्षाविद् अङ्गुरबाबा जोशीको निधन कहिले भएको हो ? : location\n",
            "सन् २०२० जुनमा सुरक्षा परिषदको अस्थायी सदस्यमा निर्वाचित हुन सफल राष्ट्र कुन कुन हुन ? : person\n",
            "'एक वडा एक व्यायामशाला' निमाणको योजना अघि बढाउने स्थानीय तह कुन हो ? : numerical\n",
            "बालबालिकाको क्षेत्रमा काम गर्ने अन्तर्राष्ट्रिय संस्था किवानिज इन्टरनेसनलको एसिया प्यासिफिक सम्मेलन हालै कहाँ सम्पन्न भयो ? : temporal\n",
            "लोकसेवा आयोग विधेयक प्रतिनिधिसभाबाट कहिले पारित भएको हो ? : person\n",
            "नेपालमा कृषक परिचयपत्र वितरण गर्ने कार्य कुन जिल्लाबाट सुरु गरिएको हो ? : temporal\n",
            "विश्व बैंकद्वारा विसं २०७६ कात्तिक ७ मा सार्वजनिक डुइङ बिजनेस प्रतिवेदन २०२० अनुसार नेपाल कतिऔं स्थानमा रहेको छ ? : numerical\n",
            "नेपाली पोर्टको शुभारम्भ कहिले भएको हो ? : temporal\n",
            "सन्  २०१९/२० को विस्डन क्रिकेटर अफ द इयरको उपाधि जित्ने क्रिकेटर को हुन ? : person\n",
            "सबै जिल्लामा स्वास्थ्य विमा सेवा लागु गर्ने पहिलो प्रदेश कुन हो ? : location\n",
            "\n",
            "\n"
          ],
          "name": "stdout"
        }
      ]
    },
    {
      "cell_type": "markdown",
      "metadata": {
        "id": "5NsPY-JzLsjQ"
      },
      "source": [
        "**Fine Type Classification**"
      ]
    },
    {
      "cell_type": "code",
      "metadata": {
        "id": "ppLemVpMLzIg"
      },
      "source": [
        "#Model Function\n",
        "def fineModel(type,algorithm):\n",
        "  c_type=df[df['CoarseType']==type]\n",
        "  f_type=c_type['FineType'].unique()\n",
        "  # f_type=['individual','inventor','discoverer','appellation','group','position','other']\n",
        "  print(f_type)\n",
        "  #splittig\n",
        "  X_fine = c_type.Questions\n",
        "  Y_fine = c_type.FineType\n",
        "  Xf_train, Xf_test, yf_train, yf_test = train_test_split(X_fine, Y_fine, test_size=TEST_SIZE, random_state = 42) \n",
        "\n",
        "  #Fine type model\n",
        "\n",
        "  # model = Pipeline([('vect', CountVectorizer()),\n",
        "  #                 ('tfidf', TfidfTransformer()),\n",
        "  #                 ('clf', SGDClassifier(loss='hinge', penalty='l2',alpha=1e-3, random_state=42, max_iter=5, tol=None)),\n",
        "  #               ])\n",
        "  model = Pipeline([('vect', CountVectorizer()),\n",
        "              ('tfidf', TfidfTransformer()),\n",
        "              ('clf', OneVsRestClassifier(SVC(C=1, kernel='sigmoid'))),    #Non linear svm\n",
        "              ])\n",
        "  model.fit(Xf_train,yf_train )\n",
        "\n",
        "  # %time\n",
        "\n",
        "  yf_pred = model.predict(Xf_test)\n",
        "  print(np.unique(yf_pred))\n",
        "\n",
        "  fine_accuracy = accuracy_score(yf_pred, yf_test)\n",
        "  print('Accuracy : %s' % fine_accuracy)\n",
        "  # print(classification_report(yf_test, yf_pred,target_names=f_type))\n",
        "  return model\n",
        "\n"
      ],
      "execution_count": null,
      "outputs": []
    },
    {
      "cell_type": "code",
      "metadata": {
        "colab": {
          "base_uri": "https://localhost:8080/"
        },
        "id": "7jAIXYq8p6vY",
        "outputId": "45f2b6cf-3532-4fdb-e0fc-41295d133c29"
      },
      "source": [
        "#person/Svm\n",
        "person_model=fineModel('person','svm')"
      ],
      "execution_count": null,
      "outputs": [
        {
          "output_type": "stream",
          "text": [
            "['individual' 'inventor' 'discoverer' 'appellation' 'group' 'other']\n",
            "['individual' 'inventor']\n",
            "Accuracy : 0.9243697478991597\n"
          ],
          "name": "stdout"
        }
      ]
    },
    {
      "cell_type": "code",
      "metadata": {
        "id": "vTYmRihsqlI1"
      },
      "source": [
        "#organization/Svm\n",
        "organization_model=fineModel('organization','svm')"
      ],
      "execution_count": null,
      "outputs": []
    },
    {
      "cell_type": "code",
      "metadata": {
        "colab": {
          "base_uri": "https://localhost:8080/"
        },
        "id": "h9CnG7MWrIUN",
        "outputId": "111e6c5f-29e5-4dd0-aea9-51002088d295"
      },
      "source": [
        "#location/Svm\n",
        "location_model=fineModel('location','svm')"
      ],
      "execution_count": null,
      "outputs": [
        {
          "output_type": "stream",
          "text": [
            "['city' 'district' 'state' 'country' 'address' 'other' 'river' 'mountain' 'continent' 'island' 'lake' 'region' 'desert']\n",
            "['address' 'city' 'country' 'district' 'lake' 'other' 'region' 'river' 'state']\n",
            "Accuracy : 0.6078431372549019\n"
          ],
          "name": "stdout"
        }
      ]
    },
    {
      "cell_type": "code",
      "metadata": {
        "colab": {
          "base_uri": "https://localhost:8080/"
        },
        "id": "dqBhTWhYrTr_",
        "outputId": "96ce90f5-66f0-4b9e-b8eb-fab8fe457050"
      },
      "source": [
        "#temporal/Svm\n",
        "temporal_model=fineModel('temporal','svm')"
      ],
      "execution_count": null,
      "outputs": [
        {
          "output_type": "stream",
          "text": [
            "['date' 'day' 'range' 'year' 'duration' 'time' 'other']\n",
            "['date' 'year']\n",
            "Accuracy : 0.8461538461538461\n"
          ],
          "name": "stdout"
        }
      ]
    },
    {
      "cell_type": "code",
      "metadata": {
        "colab": {
          "base_uri": "https://localhost:8080/"
        },
        "id": "6XF1Prwerc38",
        "outputId": "02c58585-178e-4447-b4fa-428256882c01"
      },
      "source": [
        "#numerical/Svm\n",
        "numerical_model=fineModel('numerical','svm')"
      ],
      "execution_count": null,
      "outputs": [
        {
          "output_type": "stream",
          "text": [
            "['rank' 'money' 'percentage' 'count' 'length' 'age' 'area' 'speed' 'other' 'temperture' 'frequency' 'weight' 'range'\n",
            " 'power']\n",
            "['area' 'count' 'length' 'money' 'other' 'percentage' 'speed' 'temperture']\n",
            "Accuracy : 0.6565656565656566\n"
          ],
          "name": "stdout"
        }
      ]
    },
    {
      "cell_type": "code",
      "metadata": {
        "id": "v2U_m-1Nrqkd"
      },
      "source": [
        "#explanation/Svm\n",
        "explanation_model=fineModel('explanation','svm')"
      ],
      "execution_count": null,
      "outputs": []
    },
    {
      "cell_type": "code",
      "metadata": {
        "id": "Oa18Ii91r9e2"
      },
      "source": [
        "#miscelleneous/Svm\n",
        "miscellaneous_model=fineModel('miscellaneous','svm')"
      ],
      "execution_count": null,
      "outputs": []
    },
    {
      "cell_type": "markdown",
      "metadata": {
        "id": "xw-qHD72ccUn"
      },
      "source": [
        "**Overall Prediction**"
      ]
    },
    {
      "cell_type": "code",
      "metadata": {
        "colab": {
          "base_uri": "https://localhost:8080/"
        },
        "id": "a2AXhSrzeA8j",
        "outputId": "a8c30a78-7bfa-4f44-8b24-e3ff1a5529f2"
      },
      "source": [
        "validation_questions=[[\"सन् २०२० मार्चमा प्रदान गरिएको इन्टरनेसनल कम्युनिकेसन अवार्ड बाट सम्मानित व्यत्तित्व को हनुहुन्छ ? \"],[\"नेपाल न्यून आय भएका मुलुकबाट न्यून मध्यम आय भएका मुलुकको सूचीमा कहिले स्तरोन्नति भएको हो ? \"],\n",
        "                      [\"वि.सं. २०७७ असार २३ सरकारले नेपाल प्रहरी महानिरीक्षक (आईजीपी) मा कसलाई नियुक्त गर्यो ?\"],[\"हाल रेडियो नेपालबाट कति भाषामा समाचार प्रसारण हुने गर्छ ?\"],\n",
        "                      [\"समाजसेवी तथा शिक्षाविद् अङ्गुरबाबा जोशीको निधन कहिले भएको हो ?\"],[\"सन् २०२० जुनमा सुरक्षा परिषदको अस्थायी सदस्यमा निर्वाचित हुन सफल राष्ट्र कुन कुन हुन ?\"],\n",
        "                      [\"'एक वडा एक व्यायामशाला' निमाणको योजना अघि बढाउने स्थानीय तह कुन हो ?\"],[\"बालबालिकाको क्षेत्रमा काम गर्ने अन्तर्राष्ट्रिय संस्था किवानिज इन्टरनेसनलको एसिया प्यासिफिक सम्मेलन हालै कहाँ सम्पन्न भयो ?\"],\n",
        "                      [\"लोकसेवा आयोग विधेयक प्रतिनिधिसभाबाट कहिले पारित भएको हो ?\"],[\"नेपालमा कृषक परिचयपत्र वितरण गर्ने कार्य कुन जिल्लाबाट सुरु गरिएको हो ?\"],\n",
        "                      [\"विश्व बैंकद्वारा विसं २०७६ कात्तिक ७ मा सार्वजनिक डुइङ बिजनेस प्रतिवेदन २०२० अनुसार नेपाल कतिऔं स्थानमा रहेको छ ?\"],['नेपाली पोर्टको शुभारम्भ कहिले भएको हो ?'],\n",
        "                      [\"सन्  २०१९/२० को विस्डन क्रिकेटर अफ द इयरको उपाधि जित्ने क्रिकेटर को हुन ?\"],['सबै जिल्लामा स्वास्थ्य विमा सेवा लागु गर्ने पहिलो प्रदेश कुन हो ?']]\n",
        "\n",
        "print(\"SVM Model\")\n",
        "for question in validation_questions:\n",
        "  test_pred= svm_model.predict(question)\n",
        "  coarse_type=test_pred[0]\n",
        "  if(coarse_type=='person'):\n",
        "    fine_type=person_model.predict(question)\n",
        "  elif(coarse_type=='organization'):\n",
        "    fine_type=organization_model.predict(question)\n",
        "  elif(coarse_type=='location'):\n",
        "    fine_type=location_model.predict(question)\n",
        "  elif(coarse_type=='temporal'):\n",
        "    fine_type=temporal_model.predict(question)\n",
        "  elif(coarse_type=='numerical'):\n",
        "    fine_type=numerical_model.predict(question)\n",
        "  elif(coarse_type=='explanation'):\n",
        "    fine_type=explanation_model.predict(question)\n",
        "  elif(coarse_type=='miscellaneous'):\n",
        "    fine_type=miscellaneous_model.predict(question)\n",
        "  else:\n",
        "    print(\"Coarse type didn't match\")\n",
        "\n",
        "  print(question[0] +\" \"+ coarse_type+ \" : \" +fine_type[0])\n",
        "print('\\n')"
      ],
      "execution_count": null,
      "outputs": [
        {
          "output_type": "stream",
          "text": [
            "SVM Model\n",
            "सन् २०२० मार्चमा प्रदान गरिएको इन्टरनेसनल कम्युनिकेसन अवार्ड बाट सम्मानित व्यत्तित्व को हनुहुन्छ ?  temporal : date\n",
            "नेपाल न्यून आय भएका मुलुकबाट न्यून मध्यम आय भएका मुलुकको सूचीमा कहिले स्तरोन्नति भएको हो ?  temporal : date\n",
            "वि.सं. २०७७ असार २३ सरकारले नेपाल प्रहरी महानिरीक्षक (आईजीपी) मा कसलाई नियुक्त गर्यो ? person : individual\n",
            "हाल रेडियो नेपालबाट कति भाषामा समाचार प्रसारण हुने गर्छ ? numerical : count\n",
            "समाजसेवी तथा शिक्षाविद् अङ्गुरबाबा जोशीको निधन कहिले भएको हो ? temporal : date\n",
            "सन् २०२० जुनमा सुरक्षा परिषदको अस्थायी सदस्यमा निर्वाचित हुन सफल राष्ट्र कुन कुन हुन ? person : individual\n",
            "'एक वडा एक व्यायामशाला' निमाणको योजना अघि बढाउने स्थानीय तह कुन हो ? location : country\n",
            "बालबालिकाको क्षेत्रमा काम गर्ने अन्तर्राष्ट्रिय संस्था किवानिज इन्टरनेसनलको एसिया प्यासिफिक सम्मेलन हालै कहाँ सम्पन्न भयो ? temporal : date\n",
            "लोकसेवा आयोग विधेयक प्रतिनिधिसभाबाट कहिले पारित भएको हो ? temporal : date\n",
            "नेपालमा कृषक परिचयपत्र वितरण गर्ने कार्य कुन जिल्लाबाट सुरु गरिएको हो ? temporal : date\n",
            "विश्व बैंकद्वारा विसं २०७६ कात्तिक ७ मा सार्वजनिक डुइङ बिजनेस प्रतिवेदन २०२० अनुसार नेपाल कतिऔं स्थानमा रहेको छ ? numerical : rank\n",
            "नेपाली पोर्टको शुभारम्भ कहिले भएको हो ? temporal : date\n",
            "सन्  २०१९/२० को विस्डन क्रिकेटर अफ द इयरको उपाधि जित्ने क्रिकेटर को हुन ? person : individual\n",
            "सबै जिल्लामा स्वास्थ्य विमा सेवा लागु गर्ने पहिलो प्रदेश कुन हो ? location : state\n",
            "\n",
            "\n"
          ],
          "name": "stdout"
        }
      ]
    }
  ]
}